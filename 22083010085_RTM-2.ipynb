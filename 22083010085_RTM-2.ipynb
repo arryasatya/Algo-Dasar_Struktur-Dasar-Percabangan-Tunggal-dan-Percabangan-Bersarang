{
 "cells": [
  {
   "cell_type": "markdown",
   "id": "b8d14598",
   "metadata": {},
   "source": [
    "### Menentukan Bilangan Positif atau Negatif"
   ]
  },
  {
   "cell_type": "code",
   "execution_count": 5,
   "id": "4cc124a8",
   "metadata": {},
   "outputs": [
    {
     "name": "stdout",
     "output_type": "stream",
     "text": [
      "Masukkan nilai: -99\n",
      "bilangan negatif\n"
     ]
    }
   ],
   "source": [
    "a=int(input('Masukkan nilai: '))\n",
    "if a>0 :\n",
    "    print ('bilangan positif')\n",
    "else :\n",
    "    print ('bilangan negatif')"
   ]
  },
  {
   "cell_type": "markdown",
   "id": "a7550c3a",
   "metadata": {},
   "source": [
    "### Menentukan Huruf Vokal atau Konsonan"
   ]
  },
  {
   "cell_type": "code",
   "execution_count": 4,
   "id": "9e4a94b1",
   "metadata": {},
   "outputs": [
    {
     "name": "stdout",
     "output_type": "stream",
     "text": [
      "Masukkan huruf : A\n",
      "Adalah huruf vokal\n"
     ]
    }
   ],
   "source": [
    "a=input(\"Masukkan huruf : \")\n",
    "vokal=['a','i','u','e','o','A','I','U','E','U']\n",
    "if a in vokal:\n",
    "    print(\"Adalah huruf vokal\")\n",
    "else:\n",
    "    print(\"Adalah huruf konsonan\")"
   ]
  },
  {
   "cell_type": "markdown",
   "id": "2301b0f4",
   "metadata": {},
   "source": [
    "### Menentukan Bilangan Terbesar dari 3 Inputan "
   ]
  },
  {
   "cell_type": "code",
   "execution_count": null,
   "id": "e322de75",
   "metadata": {},
   "outputs": [],
   "source": [
    "a,b,c = (\n",
    "    int(input('Masukkan nilai a: ')),\n",
    "    int(input('Masukkan nilai b: ')),\n",
    "    int(input('Masukkan nilai c: '))\n",
    ")\n",
    "if a > b and a > c:\n",
    "    print('a yang terbesar')\n",
    "elif b > a and b > c:\n",
    "    print('b yang terbesar')\n",
    "else: \n",
    "    print('yang terbesar')"
   ]
  },
  {
   "cell_type": "markdown",
   "id": "2994538a",
   "metadata": {},
   "source": [
    "### Mengkonversi Inputan Angka ke Nama Bulan"
   ]
  },
  {
   "cell_type": "code",
   "execution_count": 2,
   "id": "7d1d4c94",
   "metadata": {
    "scrolled": true
   },
   "outputs": [
    {
     "name": "stdout",
     "output_type": "stream",
     "text": [
      "Masukkan nomor bulan : 9\n",
      "Bulan September\n"
     ]
    }
   ],
   "source": [
    "a = int(input(\"Masukkan nomor bulan : \"))\n",
    "\n",
    "if a == 1 :\n",
    "    print(\"Bulan Januari\")\n",
    "elif a == 2 :\n",
    "    print(\"Bulan Februari\")\n",
    "elif a == 3 :\n",
    "    print(\"Bulan Maret\")\n",
    "elif a == 4 :\n",
    "    print(\"Bulan April\")\n",
    "elif a == 5 :\n",
    "    print(\"Bulan Mei\")\n",
    "elif a == 6 :\n",
    "    print(\"Bulan Juni\")\n",
    "elif a == 7 :\n",
    "    print(\"Bulan Juli\")\n",
    "elif a == 8 :\n",
    "    print(\"Bulan Agustus\")\n",
    "elif a == 9 :\n",
    "    print(\"Bulan September\")\n",
    "elif a == 10 :\n",
    "    print(\"Bulan Oktober\")\n",
    "elif a == 11 :\n",
    "    print(\"Bulan November\")\n",
    "elif a == 12 :\n",
    "    print(\"Bulan Desember\")\n",
    "else:\n",
    "    print(\"Tidak ada bulan lebih 12\")\n"
   ]
  },
  {
   "cell_type": "markdown",
   "id": "fa63c603",
   "metadata": {},
   "source": [
    "### Membuat Program Aritmatika (Penjumlahan, Pengurangan, Perkalian dan Pembagian)"
   ]
  },
  {
   "cell_type": "code",
   "execution_count": 9,
   "id": "2b96a4c3",
   "metadata": {},
   "outputs": [
    {
     "name": "stdout",
     "output_type": "stream",
     "text": [
      "Pilih aritmatika (Pilihan: Penjumlahan / Pengurangan / Perkalian / Pembagian): Perkalian\n",
      "Perkalian= a*b\n"
     ]
    }
   ],
   "source": [
    "Aritmatika = str(input(\"Pilih aritmatika (Pilihan: Penjumlahan / Pengurangan / Perkalian / Pembagian): \"))\n",
    "\n",
    "def Penjumlahan():\n",
    "    print(\"Penjumlahan= a+b\")\n",
    "def Pengurangan():\n",
    "    print(\"Pengurangan= a-b\")\n",
    "def Perkalian():\n",
    "    print(\"Perkalian= a*b\")\n",
    "def Pembagian():\n",
    "    print(\"Pembagian= a/b\")\n",
    "case = {'Penjumlahan' : Penjumlahan,\n",
    "        'Pengurangan' : Pengurangan,\n",
    "        'Perkalian' : Perkalian,\n",
    "        'Pembagian' : Pembagian,\n",
    "       }\n",
    "case[Aritmatika]()"
   ]
  },
  {
   "cell_type": "markdown",
   "id": "baa58996",
   "metadata": {},
   "source": [
    "### Mencari Akar-Akar Persamaan Kuadrat"
   ]
  },
  {
   "cell_type": "code",
   "execution_count": 6,
   "id": "f5a40cfe",
   "metadata": {
    "scrolled": false
   },
   "outputs": [
    {
     "name": "stdout",
     "output_type": "stream",
     "text": [
      "Masukkan nilai a: 1\n",
      "Masukkan nilai b: 2\n",
      "Masukkan nilai c: 1\n",
      "Jenis akarnya adalah 2 akar yang kembar dan real\n",
      "akar dari persamaan kuadrat adalah (-1+0j) dan(-1+0j)\n",
      "dengan diskriminan :  0.0\n"
     ]
    }
   ],
   "source": [
    "import cmath\n",
    "a = float(input(\"Masukkan nilai a: \"))\n",
    "b = float(input(\"Masukkan nilai b: \"))\n",
    "c = float(input(\"Masukkan nilai c: \"))\n",
    "\n",
    "D = (b*b) - (4*a*c)\n",
    "if D<0:\n",
    "    print('Jenis akar adalah 2 akar yang berbeda dan imajiner')\n",
    "elif D==0:\n",
    "    x1 = (-b+cmath.sqrt(D))/(2*a)\n",
    "    x2=x1\n",
    "    print('Jenis akarnya adalah 2 akar yang kembar dan real')\n",
    "else:\n",
    "    x1 = (-b+cmath.sqrt(D))/(2*a)\n",
    "    x2 = (-b-cmath.sqrt(D))/(2*a)\n",
    "    print('Jenis akarnya adalah 2 akar berbeda dan real')\n",
    "print(\"akar dari persamaan kuadrat adalah \"+str(x1)+\" dan\"+str(x2))\n",
    "print(\"dengan diskriminan : \",D)"
   ]
  },
  {
   "cell_type": "markdown",
   "id": "ebbc12b8",
   "metadata": {},
   "source": [
    "### Mencari Akar-Akar Persamaan Kuadrat"
   ]
  },
  {
   "cell_type": "code",
   "execution_count": 8,
   "id": "0c440165",
   "metadata": {},
   "outputs": [
    {
     "name": "stdout",
     "output_type": "stream",
     "text": [
      "Masukkan nilai a: 1\n",
      "Masukkan nilai b: 2\n",
      "Masukkan nilai c: 1\n",
      "Diskriminan =  0.0\n",
      "akar1=akar2 =  -1.0\n"
     ]
    }
   ],
   "source": [
    "a = float(input(\"Masukkan nilai a: \"))\n",
    "b = float(input(\"Masukkan nilai b: \"))\n",
    "c = float(input(\"Masukkan nilai c: \"))\n",
    "\n",
    "D = (b**2) - (4*a*c)\n",
    "print(\"Diskriminan = \",D)\n",
    "if D < 0 or D > 0:\n",
    "    print(\"akar kompleks x1 = \",-b + (b**2 - 4*a*c)**(1/2)/2*a)\n",
    "    print(\"akar kompleks x2 = \",-b - (b**2 - 4*a*c)**(1/2)/2*a)\n",
    "elif D == 0:\n",
    "    print(\"akar1=akar2 = \", -b/2*a)"
   ]
  },
  {
   "cell_type": "code",
   "execution_count": null,
   "id": "802dfd92",
   "metadata": {},
   "outputs": [],
   "source": []
  }
 ],
 "metadata": {
  "kernelspec": {
   "display_name": "Python 3 (ipykernel)",
   "language": "python",
   "name": "python3"
  },
  "language_info": {
   "codemirror_mode": {
    "name": "ipython",
    "version": 3
   },
   "file_extension": ".py",
   "mimetype": "text/x-python",
   "name": "python",
   "nbconvert_exporter": "python",
   "pygments_lexer": "ipython3",
   "version": "3.9.12"
  }
 },
 "nbformat": 4,
 "nbformat_minor": 5
}
